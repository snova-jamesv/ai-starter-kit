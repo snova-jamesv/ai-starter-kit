{
 "cells": [
  {
   "cell_type": "markdown",
   "id": "68aa7c6b",
   "metadata": {},
   "source": [
    "# Mutiple document extraction"
   ]
  },
  {
   "cell_type": "markdown",
   "id": "390ae83e",
   "metadata": {},
   "source": [
    "This notebook shows examples of text extraction from a list of multiple files with different types using unstructured API"
   ]
  },
  {
   "cell_type": "markdown",
   "id": "90a68de7",
   "metadata": {},
   "source": [
    "**Table of contents**<a id='toc0_'></a>    \n",
    "- [Utility functions](#toc1_1_)    \n",
    "- [Read files](#toc2_)    \n",
    "- [Load and split files](#toc3_)    \n",
    "- [Embedding & Storage](#toc4_)    \n",
    "\n",
    "<!-- vscode-jupyter-toc-config\n",
    "\tnumbering=false\n",
    "\tanchor=true\n",
    "\tflat=false\n",
    "\tminLevel=1\n",
    "\tmaxLevel=6\n",
    "\t/vscode-jupyter-toc-config -->\n",
    "<!-- THIS CELL WILL BE REPLACED ON TOC UPDATE. DO NOT WRITE YOUR TEXT IN THIS CELL -->"
   ]
  },
  {
   "cell_type": "code",
   "execution_count": 1,
   "id": "5031ae3b",
   "metadata": {},
   "outputs": [
    {
     "name": "stderr",
     "output_type": "stream",
     "text": [
      "/var/folders/p4/y0q2kh796nx_k_yzfhxs57f00000gp/T/ipykernel_41212/3623705819.py:7: TqdmWarning: IProgress not found. Please update jupyter and ipywidgets. See https://ipywidgets.readthedocs.io/en/stable/user_install.html\n",
      "  from tqdm.autonotebook import trange\n"
     ]
    },
    {
     "data": {
      "text/plain": [
       "True"
      ]
     },
     "execution_count": 1,
     "metadata": {},
     "output_type": "execute_result"
    }
   ],
   "source": [
    "import sys\n",
    "sys.path.append('../')\n",
    "import os\n",
    "import glob\n",
    "from dotenv import load_dotenv\n",
    "from langchain.document_loaders import UnstructuredAPIFileLoader\n",
    "from tqdm.autonotebook import trange\n",
    "\n",
    "load_dotenv(\"export.env\")"
   ]
  },
  {
   "cell_type": "markdown",
   "metadata": {},
   "source": [
    "## <a id='toc1_1_'></a>[Utility functions](#toc0_)"
   ]
  },
  {
   "cell_type": "code",
   "execution_count": 2,
   "id": "32d8ee9f",
   "metadata": {},
   "outputs": [],
   "source": [
    "# Split the text into trunks\n",
    "from langchain.text_splitter import RecursiveCharacterTextSplitter\n",
    "def get_text_splitter(chunk_size = 200, chunk_overlap = 20, separators= [\"\\n\\n\\n\",\"\\n\\n\",\"\\n\",\" \"]):\n",
    "    \"\"\"\n",
    "    Returns a text splitter that splits text into chunks with some overlap based on separators.\n",
    "\n",
    "    Args:\n",
    "        chunk_size (int): The maximum number of characters in each chunk.\n",
    "        chunk_overlap (int): The number of characters to overlap between chunks.\n",
    "        separators (List[str]): A list of strings that delineate the boundaries of chunks.\n",
    "\n",
    "    Returns:\n",
    "        RecursiveCharacterTextSplitter: A text splitter object that splits text into chunks.\n",
    "    \"\"\"\n",
    "    text_splitter = RecursiveCharacterTextSplitter(\n",
    "            # Set a really small chunk size, just to show.\n",
    "            chunk_size = chunk_size,\n",
    "            chunk_overlap  = chunk_overlap,\n",
    "            length_function = len,\n",
    "            add_start_index = True,\n",
    "            separators = separators\n",
    "        )\n",
    "    return text_splitter\n",
    "\n",
    "## Extract text and metadata from files\n",
    "def get_text_and_metadata(file, splitter_param=None):\n",
    "    \"\"\"\n",
    "    This function takes a file path and returns a list of documents, \n",
    "    where each document is a dictionary containing the text and metadata of the file. \n",
    "    The metadata includes the file path.\n",
    "    The function uses the UnstructuredAPIFileLoader class to load the file and split it into documents.\n",
    "    The splitter can be specified using the splitter_param argument, \n",
    "    which is a dictionary with the keys 'chunk_size', 'chunk_overlap', and 'separators'. \n",
    "    If the splitter_param argument is not specified, a default splitter is used. \n",
    "    Args:\n",
    "        file (str): The file path.\n",
    "        splitter_param (dict, optional): A dictionary containing the parameters for the splitter. Defaults to None.\n",
    "    Returns:\n",
    "        List[dict]: A list of documents, where each document is a dictionary containing the text and metadata of the file.\n",
    "    \"\"\"\n",
    "    loader = UnstructuredAPIFileLoader(file, \n",
    "                                       api_key=os.environ.get(\"UNSTRUCTURED_API_KEY\"), \n",
    "                                       url=os.environ.get(\"UNSTRUCTURED_URL\"))\n",
    "    if splitter_param is not None:\n",
    "        text_splitter = get_text_splitter(splitter_param['chunk_size'], \n",
    "                                          splitter_param['chunk_overlap'], \n",
    "                                          splitter_param['separators'])\n",
    "    else:\n",
    "        text_splitter = get_text_splitter()\n",
    "    docs = loader.load_and_split(text_splitter = text_splitter)\n",
    "    return docs\n",
    "\n",
    "# Read the files and extract text + metadata\n",
    "def get_data_for_splitting(files, splitter_parameter=None):\n",
    "    \"\"\"\n",
    "    This function takes a list of file paths,  and returns a list of documents,\n",
    "    where each document is a dictionary containing the text and metadata of the file. \n",
    "    The splitter can be specified using the splitter_parameter argument, \n",
    "    which is a dictionary with the keys 'chunk_size', 'chunk_overlap', and 'separators'. \n",
    "    If the splitter_parameter argument is not specified, a default splitter is used. \n",
    "    Args:\n",
    "        files (List[str]): A list of file paths.\n",
    "        splitter_param (dict, optional): A dictionary containing the parameters for the splitter. Defaults to None.\n",
    "    Returns:\n",
    "        List[Dict[str, Any]]: A list of documents, where each document is a dictionary containing the text and metadata of the file.\n",
    "    \"\"\"\n",
    "    docs_list = []\n",
    "    for file in files:\n",
    "        if splitter_parameter is not None:\n",
    "            docs = get_text_and_metadata(file, splitter_parameter[file])\n",
    "        else:\n",
    "            docs = get_text_and_metadata(file)\n",
    "        docs_list.extend(docs)\n",
    "    return docs_list\n",
    "\n"
   ]
  },
  {
   "cell_type": "markdown",
   "metadata": {},
   "source": [
    "# <a id='toc2_'></a>[Read files](#toc0_)"
   ]
  },
  {
   "cell_type": "code",
   "execution_count": 3,
   "id": "0464f7c7",
   "metadata": {},
   "outputs": [],
   "source": [
    "folder_path = 'sample_data/sample_files'\n",
    "file_paths = [f for f in glob.glob(f'{folder_path}/*')]"
   ]
  },
  {
   "cell_type": "markdown",
   "metadata": {},
   "source": [
    "# <a id='toc3_'></a>[Load and split files](#toc0_)"
   ]
  },
  {
   "cell_type": "code",
   "execution_count": 4,
   "id": "5f6dffdd",
   "metadata": {},
   "outputs": [
    {
     "data": {
      "text/plain": [
       "[Document(page_content='US Trustee Handbook\\n\\nCHAPTER 1\\n\\nINTRODUCTION\\n\\nCHAPTER 1 – INTRODUCTION\\n\\nA.\\tPURPOSE', metadata={'source': 'sample_data/sample_files/handbook-1p.docx', 'start_index': 0}),\n",
       " Document(page_content='The United States Trustee appoints and supervises standing trustees and monitors and supervises cases under chapter 13 of title 11 of the United States Code.  28 U.S.C. § 586(b).  The Handbook,', metadata={'source': 'sample_data/sample_files/handbook-1p.docx', 'start_index': 84}),\n",
       " Document(page_content='The Handbook, issued as part of our duties under 28 U.S.C. § 586, establishes or clarifies the position of the United States Trustee Program (Program) on the duties owed by a standing trustee to the', metadata={'source': 'sample_data/sample_files/handbook-1p.docx', 'start_index': 264}),\n",
       " Document(page_content='trustee to the debtors, creditors, other parties in interest, and the United States Trustee.  The Handbook does not present a full and complete statement of the law; it should not be used as a', metadata={'source': 'sample_data/sample_files/handbook-1p.docx', 'start_index': 448}),\n",
       " Document(page_content='not be used as a substitute for legal research and analysis.  The standing trustee must be familiar with relevant provisions of the Bankruptcy Code, Federal Rules of Bankruptcy Procedure (Rules), any', metadata={'source': 'sample_data/sample_files/handbook-1p.docx', 'start_index': 624}),\n",
       " Document(page_content='(Rules), any local bankruptcy rules, and case law.  11 U.S.C. § 321, 28 U.S.C. § 586, 28 C.F.R. § 58.6(a)(3).  Standing trustees are encouraged to follow Practice Tips identified in this Handbook but', metadata={'source': 'sample_data/sample_files/handbook-1p.docx', 'start_index': 811}),\n",
       " Document(page_content='this Handbook but these are not considered mandatory.', metadata={'source': 'sample_data/sample_files/handbook-1p.docx', 'start_index': 993}),\n",
       " Document(page_content='Nothing in this Handbook should be construed to excuse the standing trustee from complying with all duties imposed by the Bankruptcy Code and Rules, local rules, and orders of the court.  The', metadata={'source': 'sample_data/sample_files/handbook-1p.docx', 'start_index': 1048}),\n",
       " Document(page_content='of the court.  The standing trustee should notify the United States Trustee whenever the provision of the Handbook conflicts with the local rules or orders of the court.  The standing trustee is', metadata={'source': 'sample_data/sample_files/handbook-1p.docx', 'start_index': 1221}),\n",
       " Document(page_content='standing trustee is accountable for all duties set forth in this Handbook, but need not personally perform any duty unless otherwise indicated.  All statutory references in this Handbook refer to the', metadata={'source': 'sample_data/sample_files/handbook-1p.docx', 'start_index': 1396}),\n",
       " Document(page_content='refer to the Bankruptcy Code, 11 U.S.C. § 101 et seq., unless otherwise indicated.', metadata={'source': 'sample_data/sample_files/handbook-1p.docx', 'start_index': 1583}),\n",
       " Document(page_content='This Handbook does not create additional rights against the standing trustee or United States Trustee in favor of other parties.\\n\\nB.\\tROLE OF THE UNITED STATES TRUSTEE', metadata={'source': 'sample_data/sample_files/handbook-1p.docx', 'start_index': 1667}),\n",
       " Document(page_content='The Bankruptcy Reform Act of 1978 removed the bankruptcy judge from the responsibilities for daytoday administration of cases.  Debtors, creditors, and third parties with adverse interests to the', metadata={'source': 'sample_data/sample_files/handbook-1p.docx', 'start_index': 1835}),\n",
       " Document(page_content='interests to the trustee were concerned that the court, which previously appointed and supervised the trustee, would not impartially adjudicate their rights as adversaries of that trustee. To address', metadata={'source': 'sample_data/sample_files/handbook-1p.docx', 'start_index': 2014}),\n",
       " Document(page_content='trustee. To address these concerns, judicial and administrative functions within the bankruptcy system were bifurcated.', metadata={'source': 'sample_data/sample_files/handbook-1p.docx', 'start_index': 2194}),\n",
       " Document(page_content='Many administrative functions formerly performed by the court were placed within the Department of Justice through the creation of the Program.  Among the administrative functions assigned to the', metadata={'source': 'sample_data/sample_files/handbook-1p.docx', 'start_index': 2315}),\n",
       " Document(page_content='assigned to the United States Trustee were the appointment and supervision of chapter 13 trustees./  This Handbook is issued under the authority of the Program’s enabling statutes.', metadata={'source': 'sample_data/sample_files/handbook-1p.docx', 'start_index': 2495}),\n",
       " Document(page_content='C.\\tSTATUTORY DUTIES OF A STANDING TRUSTEE', metadata={'source': 'sample_data/sample_files/handbook-1p.docx', 'start_index': 2678}),\n",
       " Document(page_content='The standing trustee has a fiduciary responsibility to the bankruptcy estate.  The standing trustee is more than a mere disbursing agent.  The standing trustee must be personally involved in the', metadata={'source': 'sample_data/sample_files/handbook-1p.docx', 'start_index': 2722}),\n",
       " Document(page_content='involved in the trustee operation.  If the standing trustee is or becomes unable to perform the duties and responsibilities of a standing trustee, the standing trustee must immediately advise the', metadata={'source': 'sample_data/sample_files/handbook-1p.docx', 'start_index': 2901})]"
      ]
     },
     "execution_count": 4,
     "metadata": {},
     "output_type": "execute_result"
    }
   ],
   "source": [
    "splitter_parameter = dict()\n",
    "docs = get_data_for_splitting(file_paths)\n",
    "docs[:20]"
   ]
  },
  {
   "cell_type": "code",
   "execution_count": 5,
   "id": "8a00febf",
   "metadata": {},
   "outputs": [
    {
     "data": {
      "text/plain": [
       "[Document(page_content=\"24\\n010468dAA11382c\\nJanet\\nValenzuela\\nWatts-Donaldson\\nVeronicamouth\\nLao People's Democratic Republic\\n354.259.5062x7538\\n500.433.2022\\nstefanie71@spence.com\\n2020-09-08\\nhttps://moreno.biz/\", metadata={'source': 'sample_data/sample_files/customers-100.csv', 'start_index': 4096}),\n",
       " Document(page_content='25\\neC1927Ca84E033e\\nShane\\nWilcox\\nTucker LLC\\nBryanville\\nAlbania\\n(429)005-9030x11004\\n541-116-4501\\nmariah88@santos.com\\n2021-04-06\\nhttps://www.ramos.com/', metadata={'source': 'sample_data/sample_files/customers-100.csv', 'start_index': 4281}),\n",
       " Document(page_content='26\\n09D7D7C8Fe09aea\\nMarcus\\nMoody\\nGiles Ltd\\nKaitlyntown\\nPanama\\n674-677-8623\\n909-277-5485x566\\ndonnamullins@norris-barrett.org\\n2022-05-24\\nhttps://www.curry.com/', metadata={'source': 'sample_data/sample_files/customers-100.csv', 'start_index': 4432}),\n",
       " Document(page_content='27\\naBdfcF2c50b0bfD\\nDakota\\nPoole\\nSimmons Group\\nMichealshire\\nBelarus\\n(371)987-8576x4720\\n071-152-1376\\nstacey67@fields.org\\n2022-02-20\\nhttps://sanford-wilcox.biz/', metadata={'source': 'sample_data/sample_files/customers-100.csv', 'start_index': 4591}),\n",
       " Document(page_content='28\\nb92EBfdF8a3f0E6\\nFrederick\\nHarper\\nHinton, Chaney and Stokes\\nSouth Marissatown\\nSwitzerland\\n+1-077-121-1558x0687\\n264.742.7149\\njacobkhan@bright.biz\\n2022-05-26\\nhttps://callahan.org/', metadata={'source': 'sample_data/sample_files/customers-100.csv', 'start_index': 4751}),\n",
       " Document(page_content='29\\n3B5dAAFA41AFa22\\nStefanie\\nFitzpatrick\\nSantana-Duran\\nAcevedoville\\nSaint Vincent and the Grenadines\\n(752)776-3286\\n+1-472-021-4814x85074\\nwterrell@clark.com\\n2020-07-30\\nhttps://meyers.com/', metadata={'source': 'sample_data/sample_files/customers-100.csv', 'start_index': 4933}),\n",
       " Document(page_content='30\\nEDA69ca7a6e96a2\\nKent\\nBradshaw\\nSawyer PLC\\nNorth Harold\\nTanzania\\n+1-472-143-5037x884\\n126.922.6153\\nqjimenez@boyd.com\\n2020-04-26\\nhttp://maynard-ho.com/', metadata={'source': 'sample_data/sample_files/customers-100.csv', 'start_index': 5121}),\n",
       " Document(page_content='31\\n64DCcDFaB9DFd4e\\nJack\\nTate\\nAcosta, Petersen and Morrow\\nWest Samuel\\nZimbabwe\\n965-108-4406x20714\\n046.906.1442x6784\\ngfigueroa@boone-zavala.com\\n2021-09-15\\nhttp://www.hawkins-ramsey.com/', metadata={'source': 'sample_data/sample_files/customers-100.csv', 'start_index': 5274}),\n",
       " Document(page_content='32\\n679c6c83DD872d6\\nTom\\nTrujillo\\nMcgee Group\\nCunninghamborough\\nDenmark\\n416-338-3758\\n(775)890-7209\\ntapiagreg@beard.info\\n2022-01-13\\nhttp://www.daniels-klein.com/', metadata={'source': 'sample_data/sample_files/customers-100.csv', 'start_index': 5460}),\n",
       " Document(page_content='33\\n7Ce381e4Afa4ba9\\nGabriel\\nMejia\\nAdkins-Salinas\\nPort Annatown\\nLiechtenstein\\n4077245425\\n646.044.0696x66800\\ncoleolson@jennings.net\\n2021-04-24\\nhttps://patel-hanson.info/', metadata={'source': 'sample_data/sample_files/customers-100.csv', 'start_index': 5621})]"
      ]
     },
     "execution_count": 5,
     "metadata": {},
     "output_type": "execute_result"
    }
   ],
   "source": [
    "docs[50:60]"
   ]
  },
  {
   "cell_type": "markdown",
   "metadata": {},
   "source": [
    "# <a id='toc4_'></a>[Embedding & Storage](#toc0_)"
   ]
  },
  {
   "cell_type": "code",
   "execution_count": 6,
   "id": "f3763185",
   "metadata": {},
   "outputs": [
    {
     "name": "stdout",
     "output_type": "stream",
     "text": [
      "load INSTRUCTOR_Transformer\n",
      "max_seq_length  512\n"
     ]
    }
   ],
   "source": [
    "from langchain.vectorstores import FAISS\n",
    "from langchain.embeddings import HuggingFaceInstructEmbeddings\n",
    "\n",
    "# using Huggingface emmbedings and FAISS to store the embedding vectors\n",
    "encode_kwargs = {'normalize_embeddings': True}\n",
    "embd_model = HuggingFaceInstructEmbeddings(model_name='intfloat/e5-large-v2',\n",
    "                                      embed_instruction=\"\", # no instruction is needed for candidate passages\n",
    "                                      query_instruction=\"Represent this sentence for searching relevant passages: \",\n",
    "                                      encode_kwargs=encode_kwargs)\n",
    "vectorstore = FAISS.from_documents(documents=docs, embedding=embd_model)"
   ]
  },
  {
   "cell_type": "code",
   "execution_count": null,
   "id": "33d5f544",
   "metadata": {},
   "outputs": [],
   "source": []
  }
 ],
 "metadata": {
  "kernelspec": {
   "display_name": "Python 3 (ipykernel)",
   "language": "python",
   "name": "python3"
  },
  "language_info": {
   "codemirror_mode": {
    "name": "ipython",
    "version": 3
   },
   "file_extension": ".py",
   "mimetype": "text/x-python",
   "name": "python",
   "nbconvert_exporter": "python",
   "pygments_lexer": "ipython3",
   "version": "3.10.11"
  }
 },
 "nbformat": 4,
 "nbformat_minor": 5
}
